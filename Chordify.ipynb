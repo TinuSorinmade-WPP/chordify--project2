{
 "cells": [
  {
   "cell_type": "markdown",
   "id": "13ef5503-d078-4dac-b3a4-16ed5d765d96",
   "metadata": {},
   "source": [
    "<h1>CHORDIFY: </h1>\n",
    "This project connects to Hooktheory's Chord Progression API and Spotify's API to provide users with an easy way to discover songs that feature their chosen chord progressions.Workflow:\n",
    "<ul>\n",
    "    <li><strong>User Input:</strong> The user is prompted to enter a chord progression, the desired number of pages(of results) and the instrument they want to play this progression on.</li>\n",
    "    <li><strong>Fetch Songs:</strong> The Interface calls the Hooktheory API using the specified chord progression and my Authorisation key and recieves songs</li>\n",
    "    <li><strong>Process Results:</strong> The fetched songs are processed to create a structured dataframe, including artist names, song titles and where the chord progression appears in the song.</li>\n",
    "    <li><strong>Spotify Lookup:</strong> The application uses the Spotify API to create a playlist of the fetched songs.</li>\n",
    "    <li><strong>Youtube Playlist:</strong> Finally, the application  looks for Youtube tutorials for each of these songs for the instrument that they specified in the user input section</li>\n",
    "</ul>\n"
   ]
  },
  {
   "cell_type": "code",
   "execution_count": 27,
   "id": "0a7e07ac-a4be-464d-92b9-c7ffa5ccbec1",
   "metadata": {},
   "outputs": [],
   "source": [
    "import os # For working with files and folders\n",
    "import pickle # Used to save and load data \n",
    "import requests # Makes it easier to send HTTP requests\n",
    "import json # To work with JSON data \n",
    "import pandas as pd # Library for working with data - for the dataframe\n",
    "import random # To make random numbers\n",
    "import collections # Gives extra tools for storing data in different ways\n",
    "import spotipy # For using Spotify with Python\n",
    "import spotipy.util as util\n",
    "import webbrowser # Opens links in the web browser\n",
    "import urllib.request # For sending requests \n",
    "import googleapiclient # Main Google API library\n",
    "from googleapiclient.discovery import build  # To set up the Google API service\n",
    "import google_auth_oauthlib.flow # Helps with signing in to Google\n",
    "import googleapiclient.errors # For Google API error messages\n",
    "from google.auth.transport.requests import Request  # To send secure requests\n",
    "from google_auth_oauthlib.flow import InstalledAppFlow  # For Google login flow"
   ]
  },
  {
   "cell_type": "markdown",
   "id": "65bdc949-8959-43d0-8af1-bd364a5b7dbd",
   "metadata": {},
   "source": [
    "<h2>Retrieving my Activation Key for the HookTheory API</h2>\n",
    "I created a json file with my username, password and active key and then created a function which uses the key to acess Hooktheories database. Authentication code on Hooktheory wesbsite:/www.hooktheory.com/api/trends/docs#child-path was used to help with my code"
   ]
  },
  {
   "cell_type": "code",
   "execution_count": 28,
   "id": "2142887e-d91c-42ae-978e-ebcec7787bb0",
   "metadata": {},
   "outputs": [],
   "source": [
    "BASE_URL = \"https://api.hooktheory.com/v1/\"\n",
    "# Read my Deatils.Json file to get my active key \n",
    "with open('Details.json', 'r') as file:\n",
    "    credentials = json.load(file)\n",
    "    auth_token = credentials['active_key']  \n",
    "\n",
    "# Use the function ref:(https://www.hooktheory.com/api/trends/docs#child-path) to find songs with a certain chord_path\n",
    "def get_songs_with_progression(auth_token, chord_path, page=1): # a Function that recives my authenitcaion code, the chord progression of choice and the pages to fecth amount\n",
    "    headers = {\n",
    "        \"Accept\": \"application/json\",\n",
    "        \"Authorization\": f\"Bearer {auth_token}\"\n",
    "    }\n",
    "    url = BASE_URL + f\"trends/songs?cp={chord_path}&page={page}\"\n",
    "    response = requests.get(url, headers=headers)\n",
    "    \n",
    "    # Check for successful response and return songs, or empty list on failure\n",
    "    if response.status_code == 200:\n",
    "        return response.json()\n",
    "    else:\n",
    "        print(f\"Error fetching data from API: {response.status_code} - {response.text}\")\n",
    "        return []"
   ]
  },
  {
   "cell_type": "markdown",
   "id": "89234ca4-8127-487e-81a0-29ce53e82899",
   "metadata": {},
   "source": [
    "<h2>User Input: Please enter the chord progression you’re interested in:</h2>"
   ]
  },
  {
   "cell_type": "markdown",
   "id": "4ba201c1-1e86-4941-9208-ce72e1ef8891",
   "metadata": {},
   "source": [
    "A chord progression is a sequence of chords played in a specific order that forms the harmonic foundation of a song. Here are examples:\n",
    "<ol>\n",
    "    <li><strong>Pop/Rock:</strong> 1, 5, 6, 4 (C, G, Am, F)</li>\n",
    "    <li><strong>Jazz:</strong> 2, 5, 1 (Dm7, G7, Cmaj7)</li>\n",
    "    <li><strong>Blues:</strong> 1, 4, 5 (C, F, G)</li>\n",
    "    <li><strong>Country:</strong> 1, 4, 5 (C, F, G)</li>\n",
    "    <li><strong>R&B/Soul:</strong> 1, 6, 4, 5 (C, Am, F, G)</li>\n",
    "    <li><strong>Folk:</strong> 1, 4, 5 (C, F, G)</li>\n",
    "    <li><strong>Classical:</strong> 1, 4, 5, 1 (C, F, G, C)</li>\n",
    "    <li><strong>Reggae:</strong> 1, 4, 5 (C, F, G)</li>\n",
    "</ol>\n",
    "\n",
    "\n",
    "<h3>Notes on Formatting:</h3>\n",
    "<ul>\n",
    "    <li> Your chord input needs to be presented as numbers and separated by commas (matching the number format above)</li>\n",
    "</ul>"
   ]
  },
  {
   "cell_type": "code",
   "execution_count": 38,
   "id": "2ab8e9ac-c7ef-431e-bb91-2c277cda9f06",
   "metadata": {},
   "outputs": [
    {
     "name": "stdin",
     "output_type": "stream",
     "text": [
      "Please enter a chord progression (e.g., '4,1'):  1,4,1\n"
     ]
    },
    {
     "name": "stdout",
     "output_type": "stream",
     "text": [
      "You entered: 1,4,1\n"
     ]
    },
    {
     "name": "stdin",
     "output_type": "stream",
     "text": [
      "Please enter the number of pages to fetch (e.g., '5'- note: each page can collect up to 0 songs):  1\n",
      "Please enter the instrument which you are interested in playing this chord progression on (e.g. piano, guitar etc) Bass Guitar\n"
     ]
    }
   ],
   "source": [
    "# Function to get user input for chord progression\n",
    "def get_user_input():\n",
    "    user_input = input(\"Please enter a chord progression (e.g., '4,1'): \")\n",
    "    print(\"You entered:\", user_input)\n",
    "    return user_input\n",
    "\n",
    "# Function to get the number of pages to fetch\n",
    "def get_number_of_pages():\n",
    "    num_pages = int(input(\"Please enter the number of pages to fetch (e.g., '5'- note: each page can collect up to 0 songs): \"))\n",
    "    return num_pages\n",
    "    \n",
    "#Function to retrieve the users instrument of choice\n",
    "def instrument_of_choice():\n",
    "    instrument = str(input(\"Please enter the instrument which you are interested in playing this chord progression on (e.g. piano, guitar etc)\"))\n",
    "    return instrument\n",
    "\n",
    "# Call the function to prompt for input\n",
    "user_input = get_user_input()\n",
    "num_pages = get_number_of_pages()\n",
    "instrument = instrument_of_choice()"
   ]
  },
  {
   "cell_type": "code",
   "execution_count": 39,
   "id": "9cfe1e8f-2a5c-460c-a40f-4a5340995842",
   "metadata": {},
   "outputs": [],
   "source": [
    "#Store instrument of choiceand chord progression in a new variable\n",
    "choice_of_instrument = instrument\n",
    "chord_progress= user_input"
   ]
  },
  {
   "cell_type": "markdown",
   "id": "57743797-78bd-47d3-8829-5fa6408a79da",
   "metadata": {},
   "source": [
    "<h2> Create a Song List Data Frame </h2>"
   ]
  },
  {
   "cell_type": "code",
   "execution_count": 40,
   "id": "b78ef1a6-6546-458d-bb2b-ab0116851e64",
   "metadata": {},
   "outputs": [
    {
     "name": "stdout",
     "output_type": "stream",
     "text": [
      "\n",
      "Songs with 1,4,1 progression:\n",
      "16\n",
      "                           Artist                             Song  \\\n",
      "0                       Aerosmith                           Cryin'   \n",
      "1                 Black Eyed Peas            Just Can'T Get Enough   \n",
      "2                     Buddy Holly               That'Ll Be The Day   \n",
      "3                        Daughtry                             Home   \n",
      "4             Death Cab For Cutie  I Will Follow You Into The Dark   \n",
      "5                    Dire Straits                        Skateaway   \n",
      "6                      Don Mclean                     American Pie   \n",
      "7                      Elton John                            Levon   \n",
      "8                             Fun                      Some Nights   \n",
      "9                    Jack Johnson                            Flake   \n",
      "10  James Rich And Boots Randolph                       Yakety Sax   \n",
      "11                    John Lennon                          Imagine   \n",
      "12                    Johnny Cash                  I Walk The Line   \n",
      "13                     Julia Howe      Battle Hymn Of The Republic   \n",
      "14                   Kenny Rogers                      The Gambler   \n",
      "15                   Luis Bacalov           Django Unchained Theme   \n",
      "\n",
      "                      Section  \n",
      "0                  Pre-Chorus  \n",
      "1                      Chorus  \n",
      "2                       Verse  \n",
      "3   Chorus, Pre-Chorus, Verse  \n",
      "4                      Chorus  \n",
      "5                       Verse  \n",
      "6                      Chorus  \n",
      "7                Intro, Verse  \n",
      "8                      Chorus  \n",
      "9                       Verse  \n",
      "10                      Verse  \n",
      "11                      Verse  \n",
      "12                      Verse  \n",
      "13              Chorus, Verse  \n",
      "14                     Chorus  \n",
      "15                      Verse  \n"
     ]
    }
   ],
   "source": [
    "# Print the Title of What the Data Frame represents\n",
    "print(f\"\\nSongs with {user_input} progression:\")\n",
    "\n",
    "# Initialise an empty list to hold all songs found\n",
    "all_songs = []\n",
    "\n",
    "# Fetch songs from multiple pages\n",
    "for page in range(1, num_pages + 1):\n",
    "    songs = get_songs_with_progression(auth_token, user_input, page)\n",
    "    if not songs:  # Stop if there are no songs found \n",
    "        print(f\"No more songs found on page {page}. Stopping fetch.\")\n",
    "        break\n",
    "    all_songs.extend(songs)  # append the earlier initialised all_songs list \n",
    "\n",
    "\n",
    "song_data = []\n",
    "# For each song found from the API, create a dictionary containing the artist's name and the song title\n",
    "for song in all_songs:\n",
    "    song_data.append({\n",
    "        'Artist': song['artist'],\n",
    "        'Song': song['song'],\n",
    "        'Section':song['section']\n",
    "    })\n",
    "\n",
    "# Create a DataFrame from the song_data list\n",
    "song_df = pd.DataFrame(song_data)\n",
    "\n",
    "# Clean the columns to ensure consistent grouping\n",
    "song_df['Artist'] = song_df['Artist'].str.strip().str.title()  \n",
    "song_df['Song'] = song_df['Song'].str.strip().str.title()     \n",
    "\n",
    "# Group by Artist and Song, and combine the Section column #Aggrigate function to combine the section column if the song has been repeated\n",
    "combined_df = song_df.groupby(['Artist', 'Song'], as_index=False).agg({'Section': ', '.join}) \n",
    "\n",
    "#Find the length of songs generated:\n",
    "number_songs = len(combined_df)\n",
    "print(number_songs)\n",
    "\n",
    "# Print the resulting DataFrame\n",
    "print(combined_df)\n"
   ]
  },
  {
   "cell_type": "markdown",
   "id": "6bfac2b9-7cd6-4676-bb2d-8052915a48ed",
   "metadata": {},
   "source": [
    "<h1>Retrieving my Spotify API information </h1>"
   ]
  },
  {
   "cell_type": "markdown",
   "id": "24690b53-cfb0-4fb0-9404-6317d757d51b",
   "metadata": {},
   "source": [
    "Reference: https://github.com/katsully/intro-creative-code-year3"
   ]
  },
  {
   "cell_type": "code",
   "execution_count": 41,
   "id": "332ba713-7591-4e17-9f7b-802bc494669e",
   "metadata": {},
   "outputs": [],
   "source": [
    "# Save the contents of the spotify Json into a new file called credentials \n",
    "credentials = \"spotify-keys.json\"\n",
    "# With not only opens a file but closes it once the contents of the read section is complete\n",
    "with open(credentials, \"r\") as keys:\n",
    "    api_tokens = json.load(keys)"
   ]
  },
  {
   "cell_type": "code",
   "execution_count": 14,
   "id": "0d962d6b-4aaa-466c-9504-115dc7f4d2f3",
   "metadata": {},
   "outputs": [],
   "source": [
    "client_id = api_tokens[\"client_id\"]\n",
    "client_secret = api_tokens[\"client_secret\"]\n",
    "redirectURI = api_tokens[\"redirect\"]\n",
    "username = api_tokens[\"username\"]"
   ]
  },
  {
   "cell_type": "code",
   "execution_count": 15,
   "id": "eddbee1c-7f6d-4c87-b056-f57d1bdab668",
   "metadata": {},
   "outputs": [],
   "source": [
    "scope = 'user-read-private user-read-playback-state user-modify-playback-state playlist-modify-public user-library-read'\n",
    "token = util.prompt_for_user_token(username, scope, client_id=client_id,\n",
    "                           client_secret=client_secret,\n",
    "                           redirect_uri=redirectURI)"
   ]
  },
  {
   "cell_type": "code",
   "execution_count": 16,
   "id": "787f14f3-3333-41e1-8dd7-e3a95a1c19ff",
   "metadata": {},
   "outputs": [],
   "source": [
    "sp = spotipy.Spotify(auth=token)"
   ]
  },
  {
   "cell_type": "markdown",
   "id": "7ff04be0-668a-4585-aa46-7164aeb1b6b0",
   "metadata": {},
   "source": [
    "<h2> Creating a Spotify Playlist for users with songs within their chord Progression of Interest</h2>"
   ]
  },
  {
   "cell_type": "code",
   "execution_count": 42,
   "id": "1ea907aa-0682-42d4-9e4a-b9b29499d3f6",
   "metadata": {},
   "outputs": [
    {
     "name": "stdout",
     "output_type": "stream",
     "text": [
      "No match found for 'Yakety Sax' by 'James Rich And Boots Randolph'.\n",
      "['spotify:track:4t1fWWJQs5V9YErfsrDslC', 'spotify:track:3JA9Jsuxr4xgHXEawAdCp4', 'spotify:track:4UcHTV3TjlThmMlZgOG4Kr', 'spotify:track:5vjbBPVd4ncMex8zf2V10o', 'spotify:track:2ndWbjiiNBEOrlfToKlABE', 'spotify:track:22KSOpUAlJLJhACvQ65Bho', 'spotify:track:1fDsrQ23eTAVFElUMaf38X', 'spotify:track:0aJfFLl0grcQS7euiIp0ni', 'spotify:track:67WTwafOMgegV6ABnBQxcE', 'spotify:track:0yo8lQMdjioEBW7eux4X0L', 'spotify:track:7pKfPomDEeI4TPT6EOYjn9', 'spotify:track:7hxZF4jETnE5Q75rKQnMjE', 'spotify:track:6ueRLh9GIV8DccBixZ1lFT', 'spotify:track:5KqldkCunQ2rWxruMEtGh0', 'spotify:track:5YaGvzrA6nlTElsJwT6NcZ']\n"
     ]
    }
   ],
   "source": [
    "# Create an empty list to store song URIs\n",
    "songs = []\n",
    "\n",
    "# Loop through each row in the data frame of songs with the users preffered chord progression \n",
    "for index, row in combined_df.iterrows():\n",
    "    artist = row['Artist']\n",
    "    title = row['Song']\n",
    "    # Create the query string to search by artist and title\n",
    "    query = f\"artist:{artist} track:{title}\"\n",
    "    # Search for the track in Spotify\n",
    "    search_results = sp.search(q=query, type=\"track\")\n",
    "    # Check if any results were returned\n",
    "    if len(search_results['tracks']['items']) > 0:\n",
    "        # Get the URI of the first search result\n",
    "        first_song = search_results['tracks']['items'][0]\n",
    "        songs.append(first_song['uri'])\n",
    "    else:\n",
    "        # Optionally, handle the case where no results are found\n",
    "        print(f\"No match found for '{title}' by '{artist}'.\")\n",
    "print(songs)\n",
    "output_of_songs= len(songs)"
   ]
  },
  {
   "cell_type": "code",
   "execution_count": 21,
   "id": "175559ae-6240-4831-843a-6e92f41e7554",
   "metadata": {},
   "outputs": [
    {
     "name": "stdout",
     "output_type": "stream",
     "text": [
      "{'snapshot_id': 'AAAAAm9aIXqxgZObJqqWT2+SsM4NAUGR'}\n"
     ]
    }
   ],
   "source": [
    "my_playlist = sp.user_playlist_create(user=username, name=f\"Songs with a {user_input} chord progression\", public=True,\n",
    "                                      description=f\"A playlist of {output_of_songs} songs with the {user_input} chord progression\")\n",
    "results = sp.user_playlist_add_tracks(username, my_playlist['id'], songs)\n",
    "\n",
    "print(results)"
   ]
  },
  {
   "cell_type": "code",
   "execution_count": 19,
   "id": "b1fdf604-5d19-48bd-863e-efe7fe7f5c4b",
   "metadata": {},
   "outputs": [
    {
     "data": {
      "text/plain": [
       "True"
      ]
     },
     "execution_count": 19,
     "metadata": {},
     "output_type": "execute_result"
    }
   ],
   "source": [
    "webbrowser.open(my_playlist['external_urls']['spotify']) # Open up the Playlist in my Web Player"
   ]
  },
  {
   "cell_type": "markdown",
   "id": "ad9ff5a2-0b54-4705-bddb-4f4bb029d8c1",
   "metadata": {},
   "source": [
    "<h2> Create a Youtube Playlists to Help Users Learn these songs on their instrument of choice </h2>\n",
    "Code found from yotube Tutorial:https://www.youtube.com/watch?v=vQQEaSnQ_bs"
   ]
  },
  {
   "cell_type": "code",
   "execution_count": 43,
   "id": "306b7e7a-dd25-412e-9935-643437267869",
   "metadata": {},
   "outputs": [
    {
     "name": "stdout",
     "output_type": "stream",
     "text": [
      "Loading Credentials From File...\n",
      "Refreshing Access Token...\n"
     ]
    }
   ],
   "source": [
    "# Scopes for YouTube API\n",
    "SCOPES = [\n",
    "    'https://www.googleapis.com/auth/youtube.force-ssl'  # Scope needed for creating playlists\n",
    "]\n",
    "credentials = None \n",
    "# token.pickle stores the user's credentials from previously successful logins\n",
    "if os.path.exists('token.pickle'):\n",
    "    print('Loading Credentials From File...')\n",
    "    with open('token.pickle', 'rb') as token:\n",
    "        credentials = pickle.load(token)\n",
    "\n",
    "# If there are no valid credentials available, then either refresh the token or log in.\n",
    "if not credentials or not credentials.valid:\n",
    "    if credentials and credentials.expired and credentials.refresh_token:\n",
    "        print('Refreshing Access Token...')\n",
    "        credentials.refresh(Request())\n",
    "    else:\n",
    "        print('Fetching New Tokens...')\n",
    "        flow = InstalledAppFlow.from_client_secrets_file(\n",
    "            'client_secret.json',\n",
    "            scopes=SCOPES\n",
    "        )\n",
    "\n",
    "        flow.run_local_server(port=8080, prompt='consent', authorization_prompt_message='')\n",
    "        credentials = flow.credentials\n",
    "\n",
    "        # Save the credentials for the next run\n",
    "        with open('token.pickle', 'wb') as f:\n",
    "            print('Saving Credentials for Future Use...')\n",
    "            pickle.dump(credentials, f)\n",
    "\n",
    "# Build the YouTube service\n",
    "youtube = build(\"youtube\", \"v3\", credentials=credentials)"
   ]
  },
  {
   "cell_type": "markdown",
   "id": "c553b1a0-ee59-42be-88b7-cc905bb71b2e",
   "metadata": {},
   "source": [
    "<h2>Configuring my Youtube API Account </h2>\n",
    "Using Documentation: https://developers.google.com/youtube/v3/guides/implementation/playlists & https://stackoverflow.com/questions/72029929/create-playlist-by-youtube-data-api-python"
   ]
  },
  {
   "cell_type": "code",
   "execution_count": 44,
   "id": "13725574-c657-4dcc-8375-2d0f65368cb4",
   "metadata": {},
   "outputs": [],
   "source": [
    "def create_playlist(title, description):\n",
    "    request = youtube.playlists().insert(\n",
    "        part=\"snippet,status\",\n",
    "        body={\n",
    "            \"snippet\": {\n",
    "                \"title\": title,\n",
    "                \"description\": description\n",
    "            },\n",
    "            \"status\": {\n",
    "                \"privacyStatus\": \"public\"  # Make the playlist PUBLIC\n",
    "            }\n",
    "        }\n",
    "    )\n",
    "    response = request.execute()\n",
    "    return response['id']  # Return the ID of the created playlist"
   ]
  },
  {
   "cell_type": "code",
   "execution_count": null,
   "id": "60b78293-8f48-4b81-a68a-d2ed77f2f981",
   "metadata": {},
   "outputs": [],
   "source": [
    "def add_tutorials_to_playlist(playlist_id):\n",
    "# Define a function that iterates through the data frame and creates a query for YouTube search\n",
    "    for index, row in combined_df.iterrows(): # For aech row within the data frame get the artist and the title \n",
    "        artist = row['Artist']\n",
    "        title = row['Song']\n",
    "        instrument = choice_of_instrument \n",
    "        query = f\"{title} by {artist} - {instrument} tutorial\" # a query of the tutorials wanted\n",
    "        # Search for the video\n",
    "        try:\n",
    "            search_request = youtube.search().list(\n",
    "                q=query,\n",
    "                part=\"snippet\",\n",
    "                type=\"video\",\n",
    "                maxResults=1\n",
    "            )\n",
    "            search_response = search_request.execute()\n",
    "            # Select the first video reuslts from the search \n",
    "            if search_response['items']:\n",
    "                video_id = search_response['items'][0]['id']['videoId']\n",
    "                print(f\"Adding video ID: {video_id} to playlist: {playlist_id}\")\n",
    "                \n",
    "                # Add the video to the playlist\n",
    "                playlist_item_request = youtube.playlistItems().insert(\n",
    "                    part=\"snippet\",\n",
    "                    body={\n",
    "                        \"snippet\": {\n",
    "                            \"playlistId\": playlist_id, \n",
    "                            \"resourceId\": {\n",
    "                                \"kind\": \"youtube#video\",\n",
    "                                \"videoId\": video_id\n",
    "                            }\n",
    "                        }\n",
    "                    }\n",
    "                )\n",
    "                playlist_item_request.execute()\n",
    "                print(f\"Video ID: {video_id} added successfully.\")\n",
    "            else:\n",
    "                print(f\"No results found for: {query}\")\n",
    "        except Exception as e:\n",
    "            print(f\"An error occurred while processing '{query}': {e}\")\n",
    "\n",
    "# Playlist creation logic\n",
    "playlist_title = f\"{chord_progress} chord progression songs - {instrument} tutorials\"\n",
    "playlist_description = f\"A collection of tutorials for songs with a {chord_progress} chord progression. Play along with your Spotify Playlist when you become a Pro\"\n",
    "playlist_id = create_playlist(playlist_title, playlist_description)\n",
    "add_tutorials_to_playlist(playlist_id)\n",
    "\n",
    "print(f\"Playlist of {instrument} tutorials successfully created!\") # The Playlist: https://www.youtube.com/watch?v=3_wxvt4P3IE&list=PLm17GLd3q9-bvn0n1-EU0x3MH1ZKslJgM"
   ]
  }
 ],
 "metadata": {
  "kernelspec": {
   "display_name": "Python 3 (ipykernel)",
   "language": "python",
   "name": "python3"
  },
  "language_info": {
   "codemirror_mode": {
    "name": "ipython",
    "version": 3
   },
   "file_extension": ".py",
   "mimetype": "text/x-python",
   "name": "python",
   "nbconvert_exporter": "python",
   "pygments_lexer": "ipython3",
   "version": "3.12.7"
  }
 },
 "nbformat": 4,
 "nbformat_minor": 5
}
